{
 "cells": [
  {
   "cell_type": "markdown",
   "metadata": {},
   "source": [
    "Import libraries"
   ]
  },
  {
   "cell_type": "code",
   "execution_count": null,
   "metadata": {},
   "outputs": [],
   "source": [
    "import pandas as pd\n",
    "import json\n",
    "\n",
    "import torch\n",
    "from torch.utils.data import DataLoader\n",
    "from transformers import BertTokenizer, BertForSequenceClassification, AdamW\n",
    "from transformers import get_linear_schedule_with_warmup\n",
    "from torch.cuda.amp import GradScaler\n",
    "from sklearn.metrics import classification_report\n",
    "\n",
    "from A import imdb"
   ]
  },
  {
   "cell_type": "markdown",
   "metadata": {},
   "source": [
    "Detect GPU device"
   ]
  },
  {
   "cell_type": "code",
   "execution_count": 2,
   "metadata": {},
   "outputs": [
    {
     "name": "stdout",
     "output_type": "stream",
     "text": [
      "Using device: cuda\n",
      "\n",
      "NVIDIA GeForce RTX 3070 Ti Laptop GPU\n",
      "Memory Usage:\n",
      "Allocated: 0.0 GB\n",
      "Cached:    0.0 GB\n"
     ]
    }
   ],
   "source": [
    "device = torch.device('cuda' if torch.cuda.is_available() else 'cpu')\n",
    "print('Using device:', device)\n",
    "print()\n",
    "\n",
    "#Additional Info when using cuda\n",
    "if device.type == 'cuda':\n",
    "    print(torch.cuda.get_device_name(0))\n",
    "    print('Memory Usage:')\n",
    "    print('Allocated:', round(torch.cuda.memory_allocated(0)/1024**3,1), 'GB')\n",
    "    print('Cached:   ', round(torch.cuda.memory_reserved(0)/1024**3,1), 'GB')"
   ]
  },
  {
   "cell_type": "markdown",
   "metadata": {},
   "source": [
    "Read the original IMDB datasets"
   ]
  },
  {
   "cell_type": "code",
   "execution_count": 3,
   "metadata": {},
   "outputs": [],
   "source": [
    "# Load the IMDB movie review dataset\n",
    "train_data = imdb.read_imdb(\"Datasets/aclImdb\", \"train\")\n",
    "test_data = imdb.read_imdb(\"Datasets/aclImdb\", \"test\")"
   ]
  },
  {
   "cell_type": "markdown",
   "metadata": {},
   "source": [
    "Clean, Tokenize and Save the preprocessed datasets (Already run and saved in A/Preprocessed data)"
   ]
  },
  {
   "cell_type": "code",
   "execution_count": null,
   "metadata": {},
   "outputs": [],
   "source": [
    "# Clean the loaded data using the clean_all_texts function\n",
    "clean_train_data = {\"text\": imdb.clean_all_texts(train_data), \"label\": train_data[\"label\"]}\n",
    "clean_test_data = {\"text\": imdb.clean_all_texts(test_data), \"label\": test_data[\"label\"]}\n",
    "\n",
    "# Initialize a BERT tokenizer\n",
    "tokenizer = BertTokenizer.from_pretrained('bert-base-uncased')\n",
    "\n",
    "# Tokenize the cleaned data\n",
    "train_token = tokenizer(clean_train_data[\"text\"], padding='max_length', truncation=True, max_length=512)\n",
    "test_token = tokenizer(clean_test_data[\"text\"], padding='max_length', truncation=True, max_length=512)\n",
    "\n",
    "# Save the cleaned data as JSON files\n",
    "with open(\"A/Preprocessed_Data/clean_train_data.json\", \"w\") as f:\n",
    "    json.dump(clean_train_data, f)\n",
    "with open(\"A/Preprocessed_Data/clean_test_data.json\", \"w\") as f:\n",
    "    json.dump(clean_test_data, f)\n",
    "\n",
    "# Save the tokenized data as PyTorch tensors\n",
    "torch.save(train_token, \"A/Preprocessed_Data/train_token.pt\")\n",
    "torch.save(test_token, \"A/Preprocessed_Data/test_token.pt\")"
   ]
  },
  {
   "cell_type": "markdown",
   "metadata": {},
   "source": [
    "Load the cleaned and tokenized data and prepare for training and evaluating"
   ]
  },
  {
   "cell_type": "code",
   "execution_count": 5,
   "metadata": {},
   "outputs": [
    {
     "data": {
      "image/png": "[encoded data removed]",
      "text/plain": [
       "<Figure size 1000x500 with 1 Axes>"
      ]
     },
     "metadata": {},
     "output_type": "display_data"
    }
   ],
   "source": [
    "# Load the cleaned and tokenized IMDB movie review data\n",
    "clean_train_data, clean_test_data, train_token, test_token = imdb.load_imdb_data()\n",
    "\n",
    "# Calculate the length of each review in the training and testing data\n",
    "train_lengths = [len(text.split()) for text in clean_train_data[\"text\"]]\n",
    "test_lengths = [len(text.split()) for text in clean_test_data[\"text\"]]\n",
    "\n",
    "# Plot the distribution of review lengths in the training and testing data\n",
    "imdb.plot_length_distribution(train_lengths, test_lengths, \"Results/length_distribution.png\")\n",
    "\n",
    "# Select a balanced subset of the testing data\n",
    "selected_test_data = imdb.select_test(clean_test_data)\n",
    "\n",
    "tokenizer = BertTokenizer.from_pretrained('bert-base-uncased')\n",
    "\n",
    "# Tokenize the cleaned data\n",
    "selected_test_token = tokenizer(selected_test_data[\"text\"], padding='max_length', truncation=True, max_length=512)\n",
    "\n",
    "# Create PyTorch datasets from the tokenized data and labels\n",
    "train_dataset = imdb.IMDBDataset(train_token, clean_train_data[\"label\"])\n",
    "test_dataset = imdb.IMDBDataset(selected_test_token, selected_test_data[\"label\"])\n",
    "\n",
    "# Create PyTorch data loaders from the datasets\n",
    "# The data loaders will provide batches of data to the model during training and testing\n",
    "train_loader = DataLoader(train_dataset, batch_size=8, shuffle=True)\n",
    "test_loader = DataLoader(test_dataset, batch_size=8, shuffle=False)"
   ]
  },
  {
   "cell_type": "markdown",
   "metadata": {},
   "source": [
    "Compare an example of the original, cleaned and tokenized text"
   ]
  },
  {
   "cell_type": "code",
   "execution_count": 6,
   "metadata": {},
   "outputs": [
    {
     "name": "stdout",
     "output_type": "stream",
     "text": [
      "                                       Original Text  \\\n",
      "0  Bromwell High is a cartoon comedy. It ran at t...   \n",
      "\n",
      "                                          Clean Text  \\\n",
      "0  bromwell high cartoon comedy ran time programs...   \n",
      "\n",
      "                                      Tokenized Text  \n",
      "0  [CLS] bromwell high cartoon comedy ran time pr...  \n"
     ]
    }
   ],
   "source": [
    "# Create a DataFrame for comparison\n",
    "comparison_df = pd.DataFrame({\n",
    "    'Original Text': [train_data[\"text\"][0]],  # Original text from the training data\n",
    "    'Clean Text': [clean_train_data[\"text\"][0]],  # Cleaned text after preprocessing\n",
    "    'Tokenized Text': [tokenizer.decode(train_token[\"input_ids\"][0])],  # Decoded text after tokenization\n",
    "})\n",
    "\n",
    "# Display the DataFrame\n",
    "print(comparison_df)\n",
    "\n",
    "# Save the DataFrame to a CSV file\n",
    "# 'index=False' is used to prevent the DataFrame's index from being saved to the file\n",
    "comparison_df.to_csv('Results/comparison_text.csv', index=False)"
   ]
  },
  {
   "cell_type": "markdown",
   "metadata": {},
   "source": [
    "Load the Pre-trained BERT model and fine-tuned with IMDB datasets"
   ]
  },
  {
   "cell_type": "code",
   "execution_count": null,
   "metadata": {},
   "outputs": [],
   "source": [
    "# Load the BERT tokenizer and model\n",
    "tokenizer = BertTokenizer.from_pretrained(\"bert-base-uncased\")\n",
    "model = BertForSequenceClassification.from_pretrained(\"bert-base-uncased\")\n",
    "# Move the model to the GPU if available\n",
    "model.to(device)\n",
    "\n",
    "# Initialize the optimizer\n",
    "optimizer = AdamW(model.parameters(), lr=2e-5, eps=1e-8)\n",
    "# Set the number of training epochs\n",
    "epochs = 3\n",
    "# Calculate the total number of training steps\n",
    "total_steps = len(train_loader) * epochs\n",
    "# Calculate the number of warmup steps\n",
    "num_warmup_steps = int(0.1 * total_steps)\n",
    "# Initialize the learning rate scheduler\n",
    "scheduler = get_linear_schedule_with_warmup(optimizer, num_warmup_steps=num_warmup_steps, num_training_steps=total_steps)\n",
    "# Initialize the gradient scaler for mixed precision training\n",
    "scaler = GradScaler()\n",
    "\n",
    "# Initialize lists to store the loss and accuracy values for each epoch\n",
    "train_loss_list, train_accuracy_list = [], []\n",
    "val_loss_list, val_accuracy_list = [], []\n",
    "\n",
    "# Train the model for the specified number of epochs\n",
    "for epoch in range(epochs):\n",
    "    # Train the model for one epoch and get the training loss and accuracy\n",
    "    train_loss, train_accuracy = imdb.train(model, train_loader, optimizer, scheduler, scaler)\n",
    "    # Evaluate the model on the validation data and get the validation loss and accuracy\n",
    "    val_loss, val_accuracy, predictions, true_labels = imdb.evaluate(model, test_loader)\n",
    "    # Append the loss and accuracy values to the respective lists\n",
    "    train_loss_list.append(train_loss)\n",
    "    train_accuracy_list.append(train_accuracy)\n",
    "    val_loss_list.append(val_loss)\n",
    "    val_accuracy_list.append(val_accuracy)\n",
    "    # Print the loss and accuracy values for this epoch\n",
    "    print(f\"Epoch {epoch+1} - Train Loss: {train_loss:.4f}, Train Accuracy: {train_accuracy:.4f}, \"\n",
    "          f\"Val Loss: {val_loss:.4f}, Val Accuracy: {val_accuracy:.4f}\")\n",
    "\n",
    "# Save the fine-tuned model and tokenizer\n",
    "model.save_pretrained(\"A/fine_tuned_bert\")\n",
    "tokenizer.save_pretrained(\"A/fine_tuned_bert\")"
   ]
  },
  {
   "cell_type": "markdown",
   "metadata": {},
   "source": [
    "Load the saved fine-tuned model and evaluate with confusion matrix"
   ]
  },
  {
   "cell_type": "code",
   "execution_count": 14,
   "metadata": {},
   "outputs": [
    {
     "name": "stdout",
     "output_type": "stream",
     "text": [
      "Validation Loss: 0.2404, Validation Accuracy: 0.9164\n"
     ]
    },
    {
     "data": {
      "image/png": "[encoded data removed]",
      "text/plain": [
       "<Figure size 1000x700 with 2 Axes>"
      ]
     },
     "metadata": {},
     "output_type": "display_data"
    }
   ],
   "source": [
    "# Load the pre-trained model and tokenizer\n",
    "imdb_model = BertForSequenceClassification.from_pretrained(\"A/fine_tuned_bert\")\n",
    "imdb_tokenizer = BertTokenizer.from_pretrained(\"A/fine_tuned_bert\")\n",
    "\n",
    "# Move the model to the device (GPU or CPU)\n",
    "imdb_model.to(device)\n",
    "\n",
    "# Set the model to evaluation mode. This will disable operations specific to training such as dropout\n",
    "imdb_model.eval()\n",
    "\n",
    "# Evaluate the model on the test data. This will return the validation loss, validation accuracy, \n",
    "# predictions made by the model, and the true labels\n",
    "val_loss, val_accuracy, predictions, true_labels = imdb.evaluate(imdb_model, test_loader)\n",
    "\n",
    "# Print the validation loss and accuracy\n",
    "print(f\"Validation Loss: {val_loss:.4f}, Validation Accuracy: {val_accuracy:.4f}\")\n",
    "\n",
    "# Plot the confusion matrix using the true labels and the predictions made by the model\n",
    "imdb.plot_confusion_matrix(true_labels, predictions, \"Results/confusion_matrix.png\")"
   ]
  },
  {
   "cell_type": "markdown",
   "metadata": {},
   "source": [
    "Evaluate the fine-tuned Model with some scores"
   ]
  },
  {
   "cell_type": "code",
   "execution_count": 13,
   "metadata": {},
   "outputs": [
    {
     "name": "stdout",
     "output_type": "stream",
     "text": [
      "              precision    recall  f1-score   support\n",
      "\n",
      "    negative      0.917     0.915     0.916      1250\n",
      "    positive      0.915     0.918     0.917      1250\n",
      "\n",
      "    accuracy                          0.916      2500\n",
      "   macro avg      0.916     0.916     0.916      2500\n",
      "weighted avg      0.916     0.916     0.916      2500\n",
      "\n"
     ]
    }
   ],
   "source": [
    "# Generate a classification report. The report includes precision, recall, f1-score, and support for each class.\n",
    "# The `digits` parameter is used to set the number of digits for the output.\n",
    "report = classification_report(true_labels, predictions, target_names=['negative', 'positive'], digits=3)\n",
    "print(report)\n",
    "\n",
    "# Save the report to a text file\n",
    "# Open the file in write mode ('w') and write the report to it\n",
    "with open('Results/prediction_results_report.txt', 'w') as f:\n",
    "    f.write(report)"
   ]
  }
 ],
 "metadata": {
  "kernelspec": {
   "display_name": "DLNLP",
   "language": "python",
   "name": "python3"
  },
  "language_info": {
   "codemirror_mode": {
    "name": "ipython",
    "version": 3
   },
   "file_extension": ".py",
   "mimetype": "text/x-python",
   "name": "python",
   "nbconvert_exporter": "python",
   "pygments_lexer": "ipython3",
   "version": "3.10.14"
  }
 },
 "nbformat": 4,
 "nbformat_minor": 2
}
